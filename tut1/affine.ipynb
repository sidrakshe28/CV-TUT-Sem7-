{
 "cells": [
  {
   "cell_type": "code",
   "execution_count": null,
   "metadata": {},
   "outputs": [],
   "source": [
    "import cv2 \n",
    "import numpy as np \n",
    "from matplotlib import pyplot as plt \n",
    "\n",
    "\n",
    "img = cv2.imread('food.jfif') \n",
    "rows, cols, ch = img.shape \n",
    "\n",
    "pts1 = np.float32([[50, 50], \n",
    "\t\t\t\t[200, 50], \n",
    "\t\t\t\t[50, 200]]) \n",
    "\n",
    "pts2 = np.float32([[10, 100], \n",
    "\t\t\t\t[200, 50], \n",
    "\t\t\t\t[100, 250]]) \n",
    "\n",
    "M = cv2.getAffineTransform(pts1, pts2) \n",
    "dst = cv2.warpAffine(img, M, (cols, rows)) \n",
    "\n",
    "plt.subplot(121) \n",
    "plt.imshow(img) \n",
    "plt.title('Input') \n",
    "\n",
    "plt.subplot(122) \n",
    "plt.imshow(dst) \n",
    "plt.title('Output') \n",
    "\n",
    "plt.show() \n",
    "\n",
    "\n",
    "while(1): \n",
    "\t\n",
    "\tcv2.imshow('image', img) \n",
    "\tif cv2.waitKey(20) & 0xFF == 27: \n",
    "\t\tbreak\n",
    "\t\t\n",
    "cv2.destroyAllWindows() \n"
   ]
  },
  {
   "cell_type": "code",
   "execution_count": null,
   "metadata": {},
   "outputs": [],
   "source": []
  },
  {
   "cell_type": "code",
   "execution_count": null,
   "metadata": {},
   "outputs": [],
   "source": []
  }
 ],
 "metadata": {
  "kernelspec": {
   "display_name": "Python 3",
   "language": "python",
   "name": "python3"
  },
  "language_info": {
   "codemirror_mode": {
    "name": "ipython",
    "version": 3
   },
   "file_extension": ".py",
   "mimetype": "text/x-python",
   "name": "python",
   "nbconvert_exporter": "python",
   "pygments_lexer": "ipython3",
   "version": "3.7.4"
  }
 },
 "nbformat": 4,
 "nbformat_minor": 2
}
